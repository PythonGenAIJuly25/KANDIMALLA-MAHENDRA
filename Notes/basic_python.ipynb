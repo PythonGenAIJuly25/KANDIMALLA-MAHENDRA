{
 "cells": [
  {
   "cell_type": "code",
   "execution_count": 1,
   "id": "8dea6894",
   "metadata": {},
   "outputs": [
    {
     "name": "stdout",
     "output_type": "stream",
     "text": [
      "Helllo world\n"
     ]
    }
   ],
   "source": [
    "print(\"Helllo world\")"
   ]
  },
  {
   "cell_type": "markdown",
   "id": "dd2e0f66",
   "metadata": {},
   "source": [
    "### Files"
   ]
  },
  {
   "cell_type": "code",
   "execution_count": 11,
   "id": "511871fd",
   "metadata": {},
   "outputs": [
    {
     "name": "stdout",
     "output_type": "stream",
     "text": [
      "welcome to the python programming \n"
     ]
    }
   ],
   "source": [
    "# file_obj=open(\"filename\",\"mode\")\n",
    "\n",
    "file=open(\"Tasks.txt\",\"rt\")\n",
    "content=file.read(50)\n",
    "print(content)\n",
    "file.close()"
   ]
  },
  {
   "cell_type": "code",
   "execution_count": 8,
   "id": "143a4e8d",
   "metadata": {},
   "outputs": [
    {
     "name": "stdout",
     "output_type": "stream",
     "text": [
      "File exists\n"
     ]
    }
   ],
   "source": [
    "try:\n",
    "    f=open(\"Tasks.txt\",\"x\")\n",
    "except:\n",
    "    print(\"File exists\")"
   ]
  },
  {
   "cell_type": "code",
   "execution_count": 18,
   "id": "56ea042a",
   "metadata": {},
   "outputs": [
    {
     "name": "stdout",
     "output_type": "stream",
     "text": [
      "8\n",
      "python22\n"
     ]
    }
   ],
   "source": [
    "# context manager\n",
    "with open(\"Tasks1.txt\",'w') as f:\n",
    "    print(f.write(\"python22\"))\n",
    "\n",
    "with open(\"Tasks1.txt\",'r') as f:\n",
    "    print(f.read())"
   ]
  },
  {
   "cell_type": "code",
   "execution_count": 20,
   "id": "ce8df269",
   "metadata": {},
   "outputs": [
    {
     "name": "stdout",
     "output_type": "stream",
     "text": [
      "python22hii\n",
      " 123\n"
     ]
    }
   ],
   "source": [
    "with open(\"Tasks1.txt\",'a') as f:\n",
    "    f.write('\\n 123')\n",
    "with open(\"Tasks1.txt\",'r') as f:\n",
    "    print(f.read())"
   ]
  },
  {
   "cell_type": "code",
   "execution_count": 27,
   "id": "5e67c7df",
   "metadata": {},
   "outputs": [
    {
     "name": "stdout",
     "output_type": "stream",
     "text": [
      "['In Python, truncate() refers to a method used to resize a file, effectively shortening it to a \\n', 'specified size or the current file position.\\n', \"File Object's truncate() Method:\\n\", 'Purpose:\\n']\n",
      "In Python, truncate() refers to a method used to resize a file, effectively shortening it to a \n",
      "\n",
      "specified size or the current file position.\n",
      "\n",
      "File Object's truncate() Method:\n",
      "\n",
      "Purpose:\n",
      "\n"
     ]
    }
   ],
   "source": [
    "# reading entire file line by line\n",
    "with open(\"data/example.txt\",'r') as f:\n",
    "    content=f.readlines()\n",
    "    print(content)\n",
    "    for l in content:\n",
    "        print(l)\n"
   ]
  },
  {
   "cell_type": "code",
   "execution_count": 34,
   "id": "91c70682",
   "metadata": {},
   "outputs": [
    {
     "name": "stdout",
     "output_type": "stream",
     "text": [
      "In Python, truncate() refers to a method used to resize a file, effectively shortening it to a\n",
      "specified size or the current file position.\n",
      "File Object's truncate() Method:\n",
      "Purpose:\n"
     ]
    }
   ],
   "source": [
    "# reading line by line\n",
    "\n",
    "with open(\"data/example.txt\",'r') as f:\n",
    "    while True:\n",
    "        line=f.readline()\n",
    "        if not line:\n",
    "            break\n",
    "        print(line.strip())"
   ]
  },
  {
   "cell_type": "code",
   "execution_count": 32,
   "id": "fc1a2699",
   "metadata": {},
   "outputs": [
    {
     "name": "stdout",
     "output_type": "stream",
     "text": [
      "In Python, truncate(\n"
     ]
    }
   ],
   "source": [
    "# specific number of characters\n",
    "with open(\"data/example.txt\",'r') as f:\n",
    "    print(f.read(20))"
   ]
  },
  {
   "cell_type": "code",
   "execution_count": 33,
   "id": "f91bec82",
   "metadata": {},
   "outputs": [],
   "source": [
    "# task is seek \n"
   ]
  },
  {
   "cell_type": "code",
   "execution_count": 35,
   "id": "bb265a80",
   "metadata": {},
   "outputs": [
    {
     "ename": "AttributeError",
     "evalue": "'_io.TextIOWrapper' object has no attribute 'c'",
     "output_type": "error",
     "traceback": [
      "\u001b[1;31m---------------------------------------------------------------------------\u001b[0m",
      "\u001b[1;31mAttributeError\u001b[0m                            Traceback (most recent call last)",
      "Cell \u001b[1;32mIn[35], line 3\u001b[0m\n\u001b[0;32m      1\u001b[0m \u001b[38;5;66;03m# read in chunks useful for large file\u001b[39;00m\n\u001b[0;32m      2\u001b[0m \u001b[38;5;28;01mwith\u001b[39;00m \u001b[38;5;28mopen\u001b[39m(\u001b[38;5;124m\"\u001b[39m\u001b[38;5;124mdata/example.txt\u001b[39m\u001b[38;5;124m\"\u001b[39m,\u001b[38;5;124m'\u001b[39m\u001b[38;5;124mr\u001b[39m\u001b[38;5;124m'\u001b[39m) \u001b[38;5;28;01mas\u001b[39;00m f:\n\u001b[1;32m----> 3\u001b[0m     con\u001b[38;5;241m=\u001b[39mf\u001b[38;5;241m.\u001b[39mc\n",
      "\u001b[1;31mAttributeError\u001b[0m: '_io.TextIOWrapper' object has no attribute 'c'"
     ]
    }
   ],
   "source": [
    "# read in chunks useful for large file\n",
    "with open(\"data/example.txt\",'r') as f:\n",
    "    con=f.c"
   ]
  },
  {
   "cell_type": "code",
   "execution_count": 36,
   "id": "053bfc13",
   "metadata": {},
   "outputs": [
    {
     "data": {
      "text/plain": [
       "3"
      ]
     },
     "execution_count": 36,
     "metadata": {},
     "output_type": "execute_result"
    }
   ],
   "source": [
    "1+2"
   ]
  },
  {
   "cell_type": "code",
   "execution_count": 3,
   "id": "4d0e1e2e",
   "metadata": {},
   "outputs": [
    {
     "name": "stdout",
     "output_type": "stream",
     "text": [
      "1\n",
      "2\n",
      "3\n"
     ]
    }
   ],
   "source": [
    "l=[1,2,3]\n",
    "itr=iter(l)\n",
    "for i in itr:\n",
    "    print(i)"
   ]
  },
  {
   "cell_type": "code",
   "execution_count": null,
   "id": "20e495fc",
   "metadata": {},
   "outputs": [],
   "source": []
  }
 ],
 "metadata": {
  "kernelspec": {
   "display_name": "base",
   "language": "python",
   "name": "python3"
  },
  "language_info": {
   "codemirror_mode": {
    "name": "ipython",
    "version": 3
   },
   "file_extension": ".py",
   "mimetype": "text/x-python",
   "name": "python",
   "nbconvert_exporter": "python",
   "pygments_lexer": "ipython3",
   "version": "3.13.5"
  }
 },
 "nbformat": 4,
 "nbformat_minor": 5
}
