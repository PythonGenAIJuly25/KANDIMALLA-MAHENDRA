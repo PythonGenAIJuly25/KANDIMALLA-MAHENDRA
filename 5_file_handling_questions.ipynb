{
 "cells": [
  {
   "cell_type": "markdown",
   "id": "f4a1fa33",
   "metadata": {},
   "source": [
    "# Module: File Handling Assignments\n",
    "## Lesson: File Handling and Operations\n",
    "### Assignment 1: Reading a File\n",
    "\n",
    "Write a function that reads the contents of a file named `sample.txt` and prints each line.\n",
    "\n",
    "### Assignment 2: Writing to a File\n",
    "\n",
    "Write a function that writes a list of strings to a file named `output.txt`, with each string on a new line.\n",
    "\n",
    "### Assignment 3: Copying a File\n",
    "\n",
    "Write a function that copies the contents of a file named `source.txt` to a new file named `destination.txt`.\n",
    "\n",
    "### Assignment 4: Appending to a File\n",
    "\n",
    "Write a function that appends a given string to the end of a file named `log.txt`.\n",
    "\n",
    "### Assignment 5: Counting Words in a File\n",
    "\n",
    "Write a function that reads the contents of a file named `document.txt` and returns the number of words in the file.\n",
    "\n",
    "### Assignment 6: Finding and Replacing Text\n",
    "\n",
    "Write a function that finds and replaces all occurrences of a given word in a file named `data.txt` with another word.\n",
    "\n",
    "### Assignment 7: Reading a File in Reverse\n",
    "\n",
    "Write a function that reads the contents of a file named `reverse.txt` and prints each line in reverse order.\n",
    "\n",
    "### Assignment 8: Counting Lines, Words, and Characters\n",
    "\n",
    "Write a function that reads the contents of a file named `stats.txt` and returns the number of lines, words, and characters in the file.\n",
    "\n",
    "### Assignment 9: Merging Multiple Files\n",
    "\n",
    "Write a function that merges the contents of multiple files into a single file named `merged.txt`.\n",
    "\n",
    "### Assignment 10: Splitting a Large File\n",
    "\n",
    "Write a function that splits a large file named `large.txt` into smaller files of 100 lines each.\n",
    "\n",
    "### Assignment 11: Creating a Log File\n",
    "\n",
    "Write a function that creates a log file named `activity.log` and writes log messages with timestamps.\n",
    "\n",
    "### Assignment 12: Binary File Operations\n",
    "\n",
    "Write a function that reads a binary file named `image.bin` and writes its contents to another binary file named `copy_image.bin`.\n",
    "\n",
    "### Assignment 13: CSV File Operations\n",
    "\n",
    "Write a function that reads a CSV file named `data.csv` and prints its contents as a list of dictionaries.\n",
    "\n",
    "### Assignment 14: JSON File Operations\n",
    "\n",
    "Write a function that reads a JSON file named `data.json` and prints its contents as a Python dictionary.\n",
    "\n",
    "### Assignment 15: File Permission Handling\n",
    "\n",
    "Write a function that attempts to read a file named `protected.txt` and handles any permission errors gracefully by printing an error message."
   ]
  },
  {
   "cell_type": "code",
   "execution_count": 6,
   "id": "b7956846",
   "metadata": {},
   "outputs": [
    {
     "name": "stdout",
     "output_type": "stream",
     "text": [
      "In Python, truncate() refers to a method used to resize a file, effectively shortening it to a\n",
      "specified size or the current file position.\n",
      "File Object's truncate() Method:\n",
      "Purpose:\n"
     ]
    }
   ],
   "source": [
    "# Assignment 1: Write a function that reads the contents of a file named `sample.txt` and prints each line.\n",
    "\n",
    "with open(\"sample.txt\", \"r\") as file:\n",
    "    for line in file:\n",
    "        print(line.strip())\n",
    "            "
   ]
  },
  {
   "cell_type": "code",
   "execution_count": 7,
   "id": "dfc5093a",
   "metadata": {},
   "outputs": [],
   "source": [
    "# Assignment 2: Write a function that writes a list of strings to a file named `output.txt`, with each string on a new line.\n",
    "def write_file(lines):\n",
    "    with open(\"output.txt\", \"w\") as file:\n",
    "        for line in lines:\n",
    "            file.write(line + \"\\n\")\n",
    "write_file([\"Hello\", \"World\", \"File Handling\"])"
   ]
  },
  {
   "cell_type": "code",
   "execution_count": 8,
   "id": "36b12052",
   "metadata": {},
   "outputs": [],
   "source": [
    "# Assignment 3: Write a function that copies the contents of a file named `source.txt` to a new file named `destination.txt`.\n",
    "def copy_file():\n",
    "    with open(\"sample.txt\", \"r\") as src, open(\"destination.txt\", \"w\") as dst:\n",
    "        dst.write(src.read())\n",
    "copy_file()"
   ]
  },
  {
   "cell_type": "code",
   "execution_count": 9,
   "id": "9fc6d6b2",
   "metadata": {},
   "outputs": [],
   "source": [
    "# Assignment 4: Write a function that appends a given string to the end of a file named `log.txt`.\n",
    "def append_file(text):\n",
    "    with open(\"log.txt\", \"a\") as file:\n",
    "        file.write(text + \"\\n\")\n",
    "append_file(\"New log entry\")"
   ]
  },
  {
   "cell_type": "code",
   "execution_count": 11,
   "id": "c2035bbd",
   "metadata": {},
   "outputs": [
    {
     "name": "stdout",
     "output_type": "stream",
     "text": [
      "29\n"
     ]
    }
   ],
   "source": [
    "# Assignment 5: Write a function that reads the contents of a file named `document.txt` and returns the number of words in the file.\n",
    "def count_words():\n",
    "    with open(\"sample.txt\", \"r\") as file:\n",
    "        return len(file.read().split())\n",
    "print(count_words())"
   ]
  },
  {
   "cell_type": "code",
   "execution_count": 14,
   "id": "b6d7d043",
   "metadata": {},
   "outputs": [],
   "source": [
    "# Assignment 6: Write a function that finds and replaces all occurrences of a given word in a file named `data.txt` with another word.\n",
    "def find_replace(old, new):\n",
    "    with open(\"Tasks.txt\", \"r\") as file:\n",
    "        content = file.read()\n",
    "    content = content.replace(old, new)\n",
    "    with open(\"data.txt\", \"w\") as file:\n",
    "        file.write(content)\n",
    "find_replace(\"oldword\", \"newword\")\n"
   ]
  },
  {
   "cell_type": "code",
   "execution_count": 16,
   "id": "f6f750ad",
   "metadata": {},
   "outputs": [
    {
     "name": "stdout",
     "output_type": "stream",
     "text": [
      "Purpose:\n",
      "File Object's truncate() Method:\n",
      "specified size or the current file position.\n",
      "In Python, truncate() refers to a method used to resize a file, effectively shortening it to a\n"
     ]
    }
   ],
   "source": [
    "# Assignment 7: Write a function that reads the contents of a file named `reverse.txt` and prints each line in reverse order.\n",
    "def read_reverse():\n",
    "    with open(\"sample.txt\", \"r\") as file:\n",
    "        lines = file.readlines()\n",
    "    for line in reversed(lines):\n",
    "        print(line.strip())\n",
    "read_reverse()"
   ]
  },
  {
   "cell_type": "code",
   "execution_count": 18,
   "id": "18b18eae",
   "metadata": {},
   "outputs": [
    {
     "name": "stdout",
     "output_type": "stream",
     "text": [
      "(4, 29, 182)\n"
     ]
    }
   ],
   "source": [
    "# Assignment 8: Write a function that reads the contents of a file named `stats.txt` and returns the number of lines, words, and characters in the file.\n",
    "def file_stats():\n",
    "    with open(\"sample.txt\", \"r\") as file:\n",
    "        content = file.read()\n",
    "    lines = content.splitlines()\n",
    "    words = content.split()\n",
    "    chars = len(content)\n",
    "    return len(lines), len(words), chars\n",
    "print(file_stats())"
   ]
  },
  {
   "cell_type": "code",
   "execution_count": 20,
   "id": "3e0cdc65",
   "metadata": {},
   "outputs": [],
   "source": [
    "# Assignment 9: Write a function that merges the contents of multiple files into a single file named `merged.txt`.\n",
    "def merge_files(filenames):\n",
    "    with open(\"merged.txt\", \"w\") as outfile:\n",
    "        for fname in filenames:\n",
    "            with open(fname, \"r\") as infile:\n",
    "                outfile.write(infile.read())\n",
    "merge_files([\"Tasks.txt\", \"Tasks1.txt\", \"log.txt\"])\n"
   ]
  },
  {
   "cell_type": "code",
   "execution_count": 21,
   "id": "bf43acd9",
   "metadata": {},
   "outputs": [],
   "source": [
    "# Assignment 10: Write a function that splits a large file named `large.txt` into smaller files of 100 lines each.\n",
    "def split_file():\n",
    "    with open(\"sample.txt\", \"r\") as file:\n",
    "        lines = file.readlines()\n",
    "    for i in range(0, len(lines), 100):\n",
    "        with open(f\"part_{i//100 + 1}.txt\", \"w\") as part:\n",
    "            part.writelines(lines[i:i+100])\n",
    "split_file()"
   ]
  },
  {
   "cell_type": "code",
   "execution_count": 22,
   "id": "f3647511",
   "metadata": {},
   "outputs": [],
   "source": [
    "# Assignment 11: Write a function that creates a log file named `activity.log` and writes log messages with timestamps.\n",
    "from datetime import datetime\n",
    "def write_log(message):\n",
    "    with open(\"activity.log\", \"a\") as log:\n",
    "        log.write(f\"{datetime.now()} - {message}\\n\")\n",
    "write_log(\"Script started\")"
   ]
  },
  {
   "cell_type": "code",
   "execution_count": 30,
   "id": "4616ca3c",
   "metadata": {},
   "outputs": [],
   "source": [
    "# Assignment 12: Write a function that reads a binary file named `image.bin` and writes its contents to another binary file named `copy_image.bin`.\n",
    "def copy_binary():\n",
    "    with open(\"image.bin\", \"rb\") as src, open(\"copy_image.bin\", \"wb\") as dst:\n",
    "        dst.write(src.read())\n",
    "copy_binary()"
   ]
  },
  {
   "cell_type": "code",
   "execution_count": 27,
   "id": "785fd178",
   "metadata": {},
   "outputs": [
    {
     "name": "stdout",
     "output_type": "stream",
     "text": [
      "{'id': '1', 'name': 'Alice', 'age': '25', 'city': 'New York'}\n",
      "{'id': '2', 'name': 'Bob', 'age': '30', 'city': 'Los Angeles'}\n",
      "{'id': '3', 'name': 'Charlie', 'age': '22', 'city': 'Chicago'}\n",
      "{'id': '4', 'name': 'Diana', 'age': '28', 'city': 'Houston'}\n"
     ]
    }
   ],
   "source": [
    "# Assignment 13: Write a function that reads a CSV file named `data.csv` and prints its contents as a list of dictionaries.\n",
    "import csv\n",
    "def read_csv():\n",
    "    with open(\"data.csv\", \"r\") as file:\n",
    "        reader = csv.DictReader(file)\n",
    "        for row in reader:\n",
    "            print(dict(row))\n",
    "read_csv()"
   ]
  },
  {
   "cell_type": "code",
   "execution_count": 28,
   "id": "6b11ed7b",
   "metadata": {},
   "outputs": [
    {
     "name": "stdout",
     "output_type": "stream",
     "text": [
      "{'employees': [{'id': 1, 'name': 'Alice', 'age': 25, 'department': 'HR'}, {'id': 2, 'name': 'Bob', 'age': 30, 'department': 'IT'}, {'id': 3, 'name': 'Charlie', 'age': 22, 'department': 'Finance'}, {'id': 4, 'name': 'Diana', 'age': 28, 'department': 'Marketing'}], 'company': 'TechCorp', 'location': 'New York'}\n"
     ]
    }
   ],
   "source": [
    "# Assignment 14: Write a function that reads a JSON file named `data.json` and prints its contents as a Python dictionary.\n",
    "import json\n",
    "def read_json():\n",
    "    with open(\"data.json\", \"r\") as file:\n",
    "        data = json.load(file)\n",
    "        print(data)\n",
    "read_json()"
   ]
  },
  {
   "cell_type": "code",
   "execution_count": 29,
   "id": "7ad94ceb",
   "metadata": {},
   "outputs": [
    {
     "name": "stdout",
     "output_type": "stream",
     "text": [
      "In Python, truncate() refers to a method used to resize a file, effectively shortening it to a \n",
      "specified size or the current file position.\n",
      "File Object's truncate() Method:\n",
      "Purpose:\n"
     ]
    }
   ],
   "source": [
    "# Assignment 15: Write a function that attempts to read a file named `protected.txt` and handles any permission errors gracefully by printing an error message.\n",
    "def read_protected():\n",
    "    try:\n",
    "        with open(\"sample.txt\", \"r\") as file:\n",
    "            print(file.read())\n",
    "    except PermissionError:\n",
    "        print(\"Permission denied.\")\n",
    "read_protected()"
   ]
  },
  {
   "cell_type": "code",
   "execution_count": null,
   "id": "fdf6d2ad",
   "metadata": {},
   "outputs": [],
   "source": []
  }
 ],
 "metadata": {
  "kernelspec": {
   "display_name": "base",
   "language": "python",
   "name": "python3"
  },
  "language_info": {
   "codemirror_mode": {
    "name": "ipython",
    "version": 3
   },
   "file_extension": ".py",
   "mimetype": "text/x-python",
   "name": "python",
   "nbconvert_exporter": "python",
   "pygments_lexer": "ipython3",
   "version": "3.13.5"
  }
 },
 "nbformat": 4,
 "nbformat_minor": 5
}
